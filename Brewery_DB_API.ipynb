{
 "cells": [
  {
   "cell_type": "markdown",
   "metadata": {},
   "source": [
    "### Breweries Data from BreweryDB API\n",
    "\n",
    "we will Use the Brewery DB API from the \"https://www.brewerydb.com/developers/apps\", to extract the necessary information to make a dataframe of breweriy and their characteristics."
   ]
  },
  {
   "cell_type": "code",
   "execution_count": null,
   "metadata": {},
   "outputs": [],
   "source": [
    "import requests\n",
    "import json\n",
    "import pandas as pd\n",
    "import numpy as np"
   ]
  },
  {
   "cell_type": "markdown",
   "metadata": {},
   "source": [
    "### Load API key\n",
    "go to \"Developers\" in the menu area on the https://www.brewerydb.com/developers/apps website and select \"My API Keys\" from the dropdown list. In the \"Sandbox API Keys\" section, copy the string of characters for the Sandbox key\n",
    "\n",
    "**CAUTION** : When using an authentication credential for an API, treat your credential information like a password. You do not want anybody to see or use your API credentials!! There are many methods that are used to save API authentication credentials to load into the program. In this example we are using a plain text file, which is simple but is one of the least secure methods."
   ]
  },
  {
   "cell_type": "code",
   "execution_count": null,
   "metadata": {},
   "outputs": [],
   "source": [
    "with open(\"brewDB_key.txt\") as file:\n",
    "    api_key = file.read()"
   ]
  },
  {
   "cell_type": "code",
   "execution_count": null,
   "metadata": {},
   "outputs": [],
   "source": [
    "# DO NOT LEAVE YOUR API KEY SHOWING IN YOUR CODE\n",
    "api_key"
   ]
  },
  {
   "cell_type": "markdown",
   "metadata": {},
   "source": [
    "## Connect to API\n",
    "\n",
    "we will Use the `requests` library to connect to the internet, then send a request for access to the API (along with the authentication key). Then we will load the JSON data in from the API."
   ]
  },
  {
   "cell_type": "code",
   "execution_count": 4,
   "metadata": {},
   "outputs": [],
   "source": [
    "# endpoint structure for BreweryDB API\n",
    "url = r\"https://sandbox-api.brewerydb.com/v2/breweries/?key=\""
   ]
  },
  {
   "cell_type": "code",
   "execution_count": 5,
   "metadata": {},
   "outputs": [],
   "source": [
    "# send the request to the API\n",
    "response = requests.get(url + api_key)"
   ]
  },
  {
   "cell_type": "code",
   "execution_count": 6,
   "metadata": {},
   "outputs": [
    {
     "data": {
      "text/plain": [
       "200"
      ]
     },
     "execution_count": 6,
     "metadata": {},
     "output_type": "execute_result"
    }
   ],
   "source": [
    "# check the status code\n",
    "response.status_code"
   ]
  },
  {
   "cell_type": "code",
   "execution_count": 7,
   "metadata": {},
   "outputs": [],
   "source": [
    "# load JSON data from API\n",
    "breweriesdata = response.json()"
   ]
  },
  {
   "cell_type": "code",
   "execution_count": 8,
   "metadata": {},
   "outputs": [
    {
     "data": {
      "text/plain": [
       "dict"
      ]
     },
     "execution_count": 8,
     "metadata": {},
     "output_type": "execute_result"
    }
   ],
   "source": [
    "# identify root data structure\n",
    "type(breweriesdata)"
   ]
  },
  {
   "cell_type": "markdown",
   "metadata": {},
   "source": [
    "## Explore data structure\n",
    "\n",
    "Because the root data structure of the JSON sent back from the API is a dictionary, we can check what keys are available to access other information. From there, we can find the structure path for the data that we want to extract for the dataframe to analyze."
   ]
  },
  {
   "cell_type": "code",
   "execution_count": 9,
   "metadata": {},
   "outputs": [
    {
     "data": {
      "text/plain": [
       "dict_keys(['currentPage', 'numberOfPages', 'totalResults', 'data', 'status'])"
      ]
     },
     "execution_count": 9,
     "metadata": {},
     "output_type": "execute_result"
    }
   ],
   "source": [
    "breweriesdata.keys()"
   ]
  },
  {
   "cell_type": "code",
   "execution_count": 11,
   "metadata": {},
   "outputs": [
    {
     "data": {
      "text/plain": [
       "1"
      ]
     },
     "execution_count": 11,
     "metadata": {},
     "output_type": "execute_result"
    }
   ],
   "source": [
    "breweriesdata['currentPage']"
   ]
  },
  {
   "cell_type": "code",
   "execution_count": 12,
   "metadata": {},
   "outputs": [
    {
     "data": {
      "text/plain": [
       "1"
      ]
     },
     "execution_count": 12,
     "metadata": {},
     "output_type": "execute_result"
    }
   ],
   "source": [
    "breweriesdata['numberOfPages']"
   ]
  },
  {
   "cell_type": "code",
   "execution_count": 13,
   "metadata": {},
   "outputs": [
    {
     "data": {
      "text/plain": [
       "19"
      ]
     },
     "execution_count": 13,
     "metadata": {},
     "output_type": "execute_result"
    }
   ],
   "source": [
    "breweriesdata['totalResults']"
   ]
  },
  {
   "cell_type": "code",
   "execution_count": 14,
   "metadata": {},
   "outputs": [
    {
     "data": {
      "text/plain": [
       "'success'"
      ]
     },
     "execution_count": 14,
     "metadata": {},
     "output_type": "execute_result"
    }
   ],
   "source": [
    "breweriesdata['status']"
   ]
  },
  {
   "cell_type": "markdown",
   "metadata": {},
   "source": [
    "`currentPage`, `numberOfPages`, `totalResults`, and `status` all reach the end of their data structure."
   ]
  },
  {
   "cell_type": "code",
   "execution_count": 103,
   "metadata": {},
   "outputs": [],
   "source": [
    "# breweriesdata['data']"
   ]
  },
  {
   "cell_type": "code",
   "execution_count": 16,
   "metadata": {},
   "outputs": [
    {
     "data": {
      "text/plain": [
       "list"
      ]
     },
     "execution_count": 16,
     "metadata": {},
     "output_type": "execute_result"
    }
   ],
   "source": [
    "type(breweriesdata['data'])"
   ]
  },
  {
   "cell_type": "code",
   "execution_count": 17,
   "metadata": {},
   "outputs": [
    {
     "data": {
      "text/plain": [
       "19"
      ]
     },
     "execution_count": 17,
     "metadata": {},
     "output_type": "execute_result"
    }
   ],
   "source": [
    "len(breweriesdata['data'])"
   ]
  },
  {
   "cell_type": "code",
   "execution_count": 19,
   "metadata": {},
   "outputs": [
    {
     "data": {
      "text/plain": [
       "{'id': 'BznahA',\n",
       " 'name': 'Anheuser-Busch InBev',\n",
       " 'nameShortDisplay': 'Anheuser-Busch InBev',\n",
       " 'description': \"Anheuser-Busch operates 12 breweries in the United States, 14 in China and one in the United Kingdom. Anheuser-Busch's operations and resources are focused on adding to life's enjoyment not only through the responsible consumption of beer by adults, but through theme park entertainment and packaging.  In the United States, the company holds a 48.5 percent share of U.S. beer sales. Worldwide, Anheuser-Busch's beer sales volume was 128.4 million barrels in 2007.  The St. Louis-based company's subsidiaries include one of the largest U.S. manufacturers of aluminum beverage containers and one of the world's largest recyclers of aluminum beverage cans. Anheuser-Busch also has interests in malt production, rice milling, real estate development, turf farming, metalized and paper label printing, bottle production and transportation services.\",\n",
       " 'website': 'http://www.anheuser-busch.com/',\n",
       " 'established': '1852',\n",
       " 'isOrganic': 'N',\n",
       " 'images': {'icon': 'https://brewerydb-images.s3.amazonaws.com/brewery/BznahA/upload_0FkKKl-icon.png',\n",
       "  'medium': 'https://brewerydb-images.s3.amazonaws.com/brewery/BznahA/upload_0FkKKl-medium.png',\n",
       "  'large': 'https://brewerydb-images.s3.amazonaws.com/brewery/BznahA/upload_0FkKKl-large.png',\n",
       "  'squareMedium': 'https://brewerydb-images.s3.amazonaws.com/brewery/BznahA/upload_0FkKKl-squareMedium.png',\n",
       "  'squareLarge': 'https://brewerydb-images.s3.amazonaws.com/brewery/BznahA/upload_0FkKKl-squareLarge.png'},\n",
       " 'status': 'verified',\n",
       " 'statusDisplay': 'Verified',\n",
       " 'createDate': '2012-01-03 02:41:44',\n",
       " 'updateDate': '2018-11-02 02:15:01',\n",
       " 'isMassOwned': 'Y',\n",
       " 'isInBusiness': 'Y',\n",
       " 'isVerified': 'N'}"
      ]
     },
     "execution_count": 19,
     "metadata": {},
     "output_type": "execute_result"
    }
   ],
   "source": [
    "breweriesdata['data'][0]"
   ]
  },
  {
   "cell_type": "code",
   "execution_count": 25,
   "metadata": {},
   "outputs": [
    {
     "data": {
      "text/plain": [
       "dict_keys(['id', 'name', 'nameShortDisplay', 'description', 'website', 'established', 'isOrganic', 'images', 'status', 'statusDisplay', 'createDate', 'updateDate', 'isMassOwned', 'isInBusiness', 'isVerified'])"
      ]
     },
     "execution_count": 25,
     "metadata": {},
     "output_type": "execute_result"
    }
   ],
   "source": [
    "breweriesdata['data'][0].keys()"
   ]
  },
  {
   "cell_type": "code",
   "execution_count": 61,
   "metadata": {},
   "outputs": [
    {
     "data": {
      "text/plain": [
       "'BznahA'"
      ]
     },
     "execution_count": 61,
     "metadata": {},
     "output_type": "execute_result"
    }
   ],
   "source": [
    "breweriesdata['data'][0]['id']"
   ]
  },
  {
   "cell_type": "code",
   "execution_count": 62,
   "metadata": {},
   "outputs": [
    {
     "data": {
      "text/plain": [
       "'Anheuser-Busch InBev'"
      ]
     },
     "execution_count": 62,
     "metadata": {},
     "output_type": "execute_result"
    }
   ],
   "source": [
    "breweriesdata['data'][0]['name']"
   ]
  },
  {
   "cell_type": "code",
   "execution_count": 63,
   "metadata": {},
   "outputs": [
    {
     "data": {
      "text/plain": [
       "'Verified'"
      ]
     },
     "execution_count": 63,
     "metadata": {},
     "output_type": "execute_result"
    }
   ],
   "source": [
    "breweriesdata['data'][0]['statusDisplay']"
   ]
  },
  {
   "cell_type": "code",
   "execution_count": 64,
   "metadata": {},
   "outputs": [
    {
     "data": {
      "text/plain": [
       "'Y'"
      ]
     },
     "execution_count": 64,
     "metadata": {},
     "output_type": "execute_result"
    }
   ],
   "source": [
    "breweriesdata['data'][0]['isInBusiness']"
   ]
  },
  {
   "cell_type": "code",
   "execution_count": 65,
   "metadata": {},
   "outputs": [
    {
     "data": {
      "text/plain": [
       "'Y'"
      ]
     },
     "execution_count": 65,
     "metadata": {},
     "output_type": "execute_result"
    }
   ],
   "source": [
    "breweriesdata['data'][0]['isMassOwned']"
   ]
  },
  {
   "cell_type": "code",
   "execution_count": 66,
   "metadata": {},
   "outputs": [
    {
     "data": {
      "text/plain": [
       "'http://www.anheuser-busch.com/'"
      ]
     },
     "execution_count": 66,
     "metadata": {},
     "output_type": "execute_result"
    }
   ],
   "source": [
    "breweriesdata['data'][0]['website']"
   ]
  },
  {
   "cell_type": "code",
   "execution_count": 67,
   "metadata": {},
   "outputs": [
    {
     "data": {
      "text/plain": [
       "\"Anheuser-Busch operates 12 breweries in the United States, 14 in China and one in the United Kingdom. Anheuser-Busch's operations and resources are focused on adding to life's enjoyment not only through the responsible consumption of beer by adults, but through theme park entertainment and packaging.  In the United States, the company holds a 48.5 percent share of U.S. beer sales. Worldwide, Anheuser-Busch's beer sales volume was 128.4 million barrels in 2007.  The St. Louis-based company's subsidiaries include one of the largest U.S. manufacturers of aluminum beverage containers and one of the world's largest recyclers of aluminum beverage cans. Anheuser-Busch also has interests in malt production, rice milling, real estate development, turf farming, metalized and paper label printing, bottle production and transportation services.\""
      ]
     },
     "execution_count": 67,
     "metadata": {},
     "output_type": "execute_result"
    }
   ],
   "source": [
    "breweriesdata['data'][0]['description']"
   ]
  },
  {
   "cell_type": "code",
   "execution_count": 68,
   "metadata": {},
   "outputs": [
    {
     "data": {
      "text/plain": [
       "{'id': 'rd8LRZ',\n",
       " 'name': 'Boston Beer Company (Samuel Adams)',\n",
       " 'nameShortDisplay': 'Boston Beer Company (Samuel Adams)',\n",
       " 'isOrganic': 'N',\n",
       " 'status': 'new_unverified',\n",
       " 'statusDisplay': 'New, Unverified',\n",
       " 'createDate': '2018-12-09 18:05:53',\n",
       " 'updateDate': '2018-12-09 18:05:53',\n",
       " 'isMassOwned': 'N',\n",
       " 'isInBusiness': 'Y',\n",
       " 'isVerified': 'N'}"
      ]
     },
     "execution_count": 68,
     "metadata": {},
     "output_type": "execute_result"
    }
   ],
   "source": [
    "breweriesdata['data'][1]"
   ]
  },
  {
   "cell_type": "code",
   "execution_count": 73,
   "metadata": {},
   "outputs": [
    {
     "data": {
      "text/plain": [
       "'1852'"
      ]
     },
     "execution_count": 73,
     "metadata": {},
     "output_type": "execute_result"
    }
   ],
   "source": [
    "breweriesdata['data'][0]['established']"
   ]
  },
  {
   "cell_type": "code",
   "execution_count": 74,
   "metadata": {},
   "outputs": [
    {
     "data": {
      "text/plain": [
       "'N'"
      ]
     },
     "execution_count": 74,
     "metadata": {},
     "output_type": "execute_result"
    }
   ],
   "source": [
    "breweriesdata['data'][0]['isOrganic']"
   ]
  },
  {
   "cell_type": "markdown",
   "metadata": {},
   "source": [
    "The first and second items (nested dictionaries) in the list under the `breweriesdata['data']` key seem to be similar in structure. At a quick glance, each dictionary look like the information for a brewerie."
   ]
  },
  {
   "cell_type": "code",
   "execution_count": 33,
   "metadata": {},
   "outputs": [
    {
     "data": {
      "text/plain": [
       "dict"
      ]
     },
     "execution_count": 33,
     "metadata": {},
     "output_type": "execute_result"
    }
   ],
   "source": [
    "type(breweriesdata['data'][0]['images'])"
   ]
  },
  {
   "cell_type": "markdown",
   "metadata": {},
   "source": [
    "Many of the keys in this dictionary reach the end of the data structure, which is information we can extract for the dataframe. However, the `images` key access a nested dictionary"
   ]
  },
  {
   "cell_type": "code",
   "execution_count": 41,
   "metadata": {},
   "outputs": [
    {
     "data": {
      "text/plain": [
       "dict_keys(['icon', 'medium', 'large', 'squareMedium', 'squareLarge'])"
      ]
     },
     "execution_count": 41,
     "metadata": {},
     "output_type": "execute_result"
    }
   ],
   "source": [
    "breweriesdata['data'][0]['images'].keys()"
   ]
  },
  {
   "cell_type": "code",
   "execution_count": 45,
   "metadata": {},
   "outputs": [
    {
     "data": {
      "text/plain": [
       "str"
      ]
     },
     "execution_count": 45,
     "metadata": {},
     "output_type": "execute_result"
    }
   ],
   "source": [
    "type(breweriesdata['data'][0]['images']['squareLarge'])"
   ]
  },
  {
   "cell_type": "code",
   "execution_count": 46,
   "metadata": {},
   "outputs": [
    {
     "data": {
      "text/plain": [
       "dict_keys(['id', 'name', 'nameShortDisplay', 'isOrganic', 'status', 'statusDisplay', 'createDate', 'updateDate', 'isMassOwned', 'isInBusiness', 'isVerified'])"
      ]
     },
     "execution_count": 46,
     "metadata": {},
     "output_type": "execute_result"
    }
   ],
   "source": [
    "breweriesdata['data'][1].keys()"
   ]
  },
  {
   "cell_type": "code",
   "execution_count": 55,
   "metadata": {},
   "outputs": [
    {
     "data": {
      "text/plain": [
       "11"
      ]
     },
     "execution_count": 55,
     "metadata": {},
     "output_type": "execute_result"
    }
   ],
   "source": [
    "len(breweriesdata['data'][1])"
   ]
  },
  {
   "cell_type": "markdown",
   "metadata": {},
   "source": [
    "The second brewerie in the dataset has dictionary keys that do not exist in the first beer dictionary, such as `website`, and `description`  . This data is ***missing*** from the first brewerie and will later be referenced when extracting the data."
   ]
  },
  {
   "cell_type": "markdown",
   "metadata": {},
   "source": [
    "## Extract Data\n",
    "\n",
    "Now that we have identified the structure for breweries dataset, we can collect the following information:\n",
    "\n",
    "- ID\n",
    "- Name\n",
    "- Year of Establishment\n",
    "- Status\n",
    "- Is it in business?\n",
    "- Is it mass owned?\n",
    "- Is it organic?\n",
    "- Website\n",
    "- Description"
   ]
  },
  {
   "cell_type": "code",
   "execution_count": 96,
   "metadata": {},
   "outputs": [],
   "source": [
    "brew_info = { 'id':[],\n",
    "            'name':[],\n",
    "            'established':[],\n",
    "            'statusDisplay':[],\n",
    "            'isInBusiness':[],\n",
    "            'isMassOwned':[],\n",
    "            'isOrganic':[],\n",
    "            'website':[],\n",
    "            'description':[]\n",
    "           }"
   ]
  },
  {
   "cell_type": "code",
   "execution_count": 97,
   "metadata": {},
   "outputs": [],
   "source": [
    "breweries = breweriesdata['data']"
   ]
  },
  {
   "cell_type": "code",
   "execution_count": 98,
   "metadata": {},
   "outputs": [],
   "source": [
    "for brew in breweries:\n",
    "    for key in brew_info.keys():\n",
    "        try:\n",
    "            brew_info[key].append(brew[key])\n",
    "        except KeyError:\n",
    "            brew_info[key].append(np.nan)\n",
    "    \n",
    "        "
   ]
  },
  {
   "cell_type": "code",
   "execution_count": 99,
   "metadata": {},
   "outputs": [
    {
     "data": {
      "text/plain": [
       "['Anheuser-Busch InBev',\n",
       " 'Boston Beer Company (Samuel Adams)',\n",
       " 'Breckenridge Brewery',\n",
       " 'Brouwerij De Leite',\n",
       " 'Dock Street Brewery',\n",
       " 'Guinness',\n",
       " 'Harmon Brewing Company',\n",
       " 'Jackalope Brewing Company',\n",
       " 'Lagunitas Brewing Company',\n",
       " 'Last Name Brewing',\n",
       " 'Laughing Dog Brewing',\n",
       " 'Miller Brewing Company',\n",
       " 'New Holland Brewing Company',\n",
       " 'Oskar Blues Brewery',\n",
       " 'Portsmouth Brewery',\n",
       " 'Sierra Nevada Brewing Company',\n",
       " 'SweetWater Brewing Company',\n",
       " 'Wachusett Brewing Company',\n",
       " 'Zero Gravity Craft Brewery']"
      ]
     },
     "execution_count": 99,
     "metadata": {},
     "output_type": "execute_result"
    }
   ],
   "source": [
    "# check collected information in \"name\" key of brew_info dictionary\n",
    "brew_info['name']"
   ]
  },
  {
   "cell_type": "markdown",
   "metadata": {},
   "source": [
    "# Create Dataframe\n",
    "\n",
    "Now that the data is collected, we can put it into a dataframe."
   ]
  },
  {
   "cell_type": "code",
   "execution_count": 100,
   "metadata": {},
   "outputs": [
    {
     "data": {
      "text/html": [
       "<div>\n",
       "<style scoped>\n",
       "    .dataframe tbody tr th:only-of-type {\n",
       "        vertical-align: middle;\n",
       "    }\n",
       "\n",
       "    .dataframe tbody tr th {\n",
       "        vertical-align: top;\n",
       "    }\n",
       "\n",
       "    .dataframe thead th {\n",
       "        text-align: right;\n",
       "    }\n",
       "</style>\n",
       "<table border=\"1\" class=\"dataframe\">\n",
       "  <thead>\n",
       "    <tr style=\"text-align: right;\">\n",
       "      <th></th>\n",
       "      <th>id</th>\n",
       "      <th>name</th>\n",
       "      <th>established</th>\n",
       "      <th>statusDisplay</th>\n",
       "      <th>isInBusiness</th>\n",
       "      <th>isMassOwned</th>\n",
       "      <th>isOrganic</th>\n",
       "      <th>website</th>\n",
       "      <th>description</th>\n",
       "    </tr>\n",
       "  </thead>\n",
       "  <tbody>\n",
       "    <tr>\n",
       "      <th>0</th>\n",
       "      <td>BznahA</td>\n",
       "      <td>Anheuser-Busch InBev</td>\n",
       "      <td>1852</td>\n",
       "      <td>Verified</td>\n",
       "      <td>Y</td>\n",
       "      <td>Y</td>\n",
       "      <td>N</td>\n",
       "      <td>http://www.anheuser-busch.com/</td>\n",
       "      <td>Anheuser-Busch operates 12 breweries in the Un...</td>\n",
       "    </tr>\n",
       "    <tr>\n",
       "      <th>1</th>\n",
       "      <td>rd8LRZ</td>\n",
       "      <td>Boston Beer Company (Samuel Adams)</td>\n",
       "      <td>NaN</td>\n",
       "      <td>New, Unverified</td>\n",
       "      <td>Y</td>\n",
       "      <td>N</td>\n",
       "      <td>N</td>\n",
       "      <td>NaN</td>\n",
       "      <td>NaN</td>\n",
       "    </tr>\n",
       "    <tr>\n",
       "      <th>2</th>\n",
       "      <td>IImUD9</td>\n",
       "      <td>Breckenridge Brewery</td>\n",
       "      <td>1990</td>\n",
       "      <td>Verified</td>\n",
       "      <td>Y</td>\n",
       "      <td>Y</td>\n",
       "      <td>N</td>\n",
       "      <td>http://www.breckbrew.com/</td>\n",
       "      <td>Breckenridge Brewery was founded in 1990 in Br...</td>\n",
       "    </tr>\n",
       "    <tr>\n",
       "      <th>3</th>\n",
       "      <td>uM2jeT</td>\n",
       "      <td>Brouwerij De Leite</td>\n",
       "      <td>2008</td>\n",
       "      <td>Verified</td>\n",
       "      <td>Y</td>\n",
       "      <td>N</td>\n",
       "      <td>N</td>\n",
       "      <td>http://www.deleite.be/</td>\n",
       "      <td>Brewing since 1997.  Officially transformed in...</td>\n",
       "    </tr>\n",
       "    <tr>\n",
       "      <th>4</th>\n",
       "      <td>p3YrOa</td>\n",
       "      <td>Dock Street Brewery</td>\n",
       "      <td>1985</td>\n",
       "      <td>Verified</td>\n",
       "      <td>Y</td>\n",
       "      <td>N</td>\n",
       "      <td>N</td>\n",
       "      <td>http://www.dockstreetbeer.com</td>\n",
       "      <td>Founded in 1985, Dock Street Brewing Co. was t...</td>\n",
       "    </tr>\n",
       "    <tr>\n",
       "      <th>5</th>\n",
       "      <td>HaPdSL</td>\n",
       "      <td>Guinness</td>\n",
       "      <td>1759</td>\n",
       "      <td>Verified</td>\n",
       "      <td>Y</td>\n",
       "      <td>Y</td>\n",
       "      <td>N</td>\n",
       "      <td>http://www.guinness.com/</td>\n",
       "      <td>St. James's Gate Brewery (Irish: Grúdlann Ghea...</td>\n",
       "    </tr>\n",
       "    <tr>\n",
       "      <th>6</th>\n",
       "      <td>DMU2Kf</td>\n",
       "      <td>Harmon Brewing Company</td>\n",
       "      <td>NaN</td>\n",
       "      <td>Verified</td>\n",
       "      <td>Y</td>\n",
       "      <td>N</td>\n",
       "      <td>N</td>\n",
       "      <td>http://harmonbrewingco.com/</td>\n",
       "      <td>This 15 barrel microbrewery and restaurant is ...</td>\n",
       "    </tr>\n",
       "    <tr>\n",
       "      <th>7</th>\n",
       "      <td>p1tFbP</td>\n",
       "      <td>Jackalope Brewing Company</td>\n",
       "      <td>2011</td>\n",
       "      <td>Verified</td>\n",
       "      <td>Y</td>\n",
       "      <td>N</td>\n",
       "      <td>N</td>\n",
       "      <td>http://www.jackalopebrew.com/</td>\n",
       "      <td>Jackalope Brewing Company is owned by Bailey S...</td>\n",
       "    </tr>\n",
       "    <tr>\n",
       "      <th>8</th>\n",
       "      <td>nLsoQ9</td>\n",
       "      <td>Lagunitas Brewing Company</td>\n",
       "      <td>1993</td>\n",
       "      <td>Verified</td>\n",
       "      <td>Y</td>\n",
       "      <td>Y</td>\n",
       "      <td>N</td>\n",
       "      <td>http://www.lagunitas.com/</td>\n",
       "      <td>From our earliest days of striving to make con...</td>\n",
       "    </tr>\n",
       "    <tr>\n",
       "      <th>9</th>\n",
       "      <td>941OaA</td>\n",
       "      <td>Last Name Brewing</td>\n",
       "      <td>2003</td>\n",
       "      <td>Verified</td>\n",
       "      <td>Y</td>\n",
       "      <td>N</td>\n",
       "      <td>N</td>\n",
       "      <td>http://www.lastnamebrewing.com/</td>\n",
       "      <td>Last Name Brewing is a craft brewery and tap r...</td>\n",
       "    </tr>\n",
       "    <tr>\n",
       "      <th>10</th>\n",
       "      <td>yX6twV</td>\n",
       "      <td>Laughing Dog Brewing</td>\n",
       "      <td>2005</td>\n",
       "      <td>Verified</td>\n",
       "      <td>Y</td>\n",
       "      <td>N</td>\n",
       "      <td>N</td>\n",
       "      <td>http://www.laughingdogbrewing.com/</td>\n",
       "      <td>At Laughing Dog Brewing, what began with a dre...</td>\n",
       "    </tr>\n",
       "    <tr>\n",
       "      <th>11</th>\n",
       "      <td>hGFVYy</td>\n",
       "      <td>Miller Brewing Company</td>\n",
       "      <td>1885</td>\n",
       "      <td>Verified</td>\n",
       "      <td>Y</td>\n",
       "      <td>Y</td>\n",
       "      <td>N</td>\n",
       "      <td>http://www.millercoors.com/</td>\n",
       "      <td>NaN</td>\n",
       "    </tr>\n",
       "    <tr>\n",
       "      <th>12</th>\n",
       "      <td>AqEUBQ</td>\n",
       "      <td>New Holland Brewing Company</td>\n",
       "      <td>1996</td>\n",
       "      <td>Verified</td>\n",
       "      <td>Y</td>\n",
       "      <td>N</td>\n",
       "      <td>N</td>\n",
       "      <td>http://newhollandbrew.com/</td>\n",
       "      <td>New Holland Brewing Company’s deep roots in th...</td>\n",
       "    </tr>\n",
       "    <tr>\n",
       "      <th>13</th>\n",
       "      <td>q6vJUK</td>\n",
       "      <td>Oskar Blues Brewery</td>\n",
       "      <td>1997</td>\n",
       "      <td>Verified</td>\n",
       "      <td>Y</td>\n",
       "      <td>N</td>\n",
       "      <td>N</td>\n",
       "      <td>http://www.oskarblues.com/</td>\n",
       "      <td>Oskar Blues Brewery is part of the Oskar Blues...</td>\n",
       "    </tr>\n",
       "    <tr>\n",
       "      <th>14</th>\n",
       "      <td>4F7QA9</td>\n",
       "      <td>Portsmouth Brewery</td>\n",
       "      <td>1991</td>\n",
       "      <td>Verified</td>\n",
       "      <td>Y</td>\n",
       "      <td>N</td>\n",
       "      <td>N</td>\n",
       "      <td>http://www.portsmouthbrewery.com/</td>\n",
       "      <td>The Portsmouth Brewery, New Hampshire's first ...</td>\n",
       "    </tr>\n",
       "    <tr>\n",
       "      <th>15</th>\n",
       "      <td>nHLlnK</td>\n",
       "      <td>Sierra Nevada Brewing Company</td>\n",
       "      <td>1980</td>\n",
       "      <td>Verified</td>\n",
       "      <td>Y</td>\n",
       "      <td>N</td>\n",
       "      <td>N</td>\n",
       "      <td>http://www.sierranevada.com/</td>\n",
       "      <td>The Sierra Nevada Brewing Company was establis...</td>\n",
       "    </tr>\n",
       "    <tr>\n",
       "      <th>16</th>\n",
       "      <td>TMc6H2</td>\n",
       "      <td>SweetWater Brewing Company</td>\n",
       "      <td>1997</td>\n",
       "      <td>Verified</td>\n",
       "      <td>Y</td>\n",
       "      <td>N</td>\n",
       "      <td>N</td>\n",
       "      <td>http://www.sweetwaterbrew.com/</td>\n",
       "      <td>February 17, 1997 marked the official beginnin...</td>\n",
       "    </tr>\n",
       "    <tr>\n",
       "      <th>17</th>\n",
       "      <td>DifSi4</td>\n",
       "      <td>Wachusett Brewing Company</td>\n",
       "      <td>1994</td>\n",
       "      <td>Verified</td>\n",
       "      <td>Y</td>\n",
       "      <td>N</td>\n",
       "      <td>N</td>\n",
       "      <td>http://www.wachusettbrew.com/</td>\n",
       "      <td>Wachusett Brewing Company was founded in 1994 ...</td>\n",
       "    </tr>\n",
       "    <tr>\n",
       "      <th>18</th>\n",
       "      <td>VEY3Xa</td>\n",
       "      <td>Zero Gravity Craft Brewery</td>\n",
       "      <td>2004</td>\n",
       "      <td>Verified</td>\n",
       "      <td>Y</td>\n",
       "      <td>N</td>\n",
       "      <td>N</td>\n",
       "      <td>http://www.zerogravitybeer.com/</td>\n",
       "      <td>Superior craft beer out of Burlington, Vermont...</td>\n",
       "    </tr>\n",
       "  </tbody>\n",
       "</table>\n",
       "</div>"
      ],
      "text/plain": [
       "        id                                name established    statusDisplay  \\\n",
       "0   BznahA                Anheuser-Busch InBev        1852         Verified   \n",
       "1   rd8LRZ  Boston Beer Company (Samuel Adams)         NaN  New, Unverified   \n",
       "2   IImUD9                Breckenridge Brewery        1990         Verified   \n",
       "3   uM2jeT                  Brouwerij De Leite        2008         Verified   \n",
       "4   p3YrOa                 Dock Street Brewery        1985         Verified   \n",
       "5   HaPdSL                            Guinness        1759         Verified   \n",
       "6   DMU2Kf              Harmon Brewing Company         NaN         Verified   \n",
       "7   p1tFbP           Jackalope Brewing Company        2011         Verified   \n",
       "8   nLsoQ9           Lagunitas Brewing Company        1993         Verified   \n",
       "9   941OaA                   Last Name Brewing        2003         Verified   \n",
       "10  yX6twV                Laughing Dog Brewing        2005         Verified   \n",
       "11  hGFVYy              Miller Brewing Company        1885         Verified   \n",
       "12  AqEUBQ         New Holland Brewing Company        1996         Verified   \n",
       "13  q6vJUK                 Oskar Blues Brewery        1997         Verified   \n",
       "14  4F7QA9                  Portsmouth Brewery        1991         Verified   \n",
       "15  nHLlnK       Sierra Nevada Brewing Company        1980         Verified   \n",
       "16  TMc6H2          SweetWater Brewing Company        1997         Verified   \n",
       "17  DifSi4           Wachusett Brewing Company        1994         Verified   \n",
       "18  VEY3Xa          Zero Gravity Craft Brewery        2004         Verified   \n",
       "\n",
       "   isInBusiness isMassOwned isOrganic                             website  \\\n",
       "0             Y           Y         N      http://www.anheuser-busch.com/   \n",
       "1             Y           N         N                                 NaN   \n",
       "2             Y           Y         N           http://www.breckbrew.com/   \n",
       "3             Y           N         N              http://www.deleite.be/   \n",
       "4             Y           N         N       http://www.dockstreetbeer.com   \n",
       "5             Y           Y         N            http://www.guinness.com/   \n",
       "6             Y           N         N         http://harmonbrewingco.com/   \n",
       "7             Y           N         N       http://www.jackalopebrew.com/   \n",
       "8             Y           Y         N           http://www.lagunitas.com/   \n",
       "9             Y           N         N     http://www.lastnamebrewing.com/   \n",
       "10            Y           N         N  http://www.laughingdogbrewing.com/   \n",
       "11            Y           Y         N         http://www.millercoors.com/   \n",
       "12            Y           N         N          http://newhollandbrew.com/   \n",
       "13            Y           N         N          http://www.oskarblues.com/   \n",
       "14            Y           N         N   http://www.portsmouthbrewery.com/   \n",
       "15            Y           N         N        http://www.sierranevada.com/   \n",
       "16            Y           N         N      http://www.sweetwaterbrew.com/   \n",
       "17            Y           N         N       http://www.wachusettbrew.com/   \n",
       "18            Y           N         N     http://www.zerogravitybeer.com/   \n",
       "\n",
       "                                          description  \n",
       "0   Anheuser-Busch operates 12 breweries in the Un...  \n",
       "1                                                 NaN  \n",
       "2   Breckenridge Brewery was founded in 1990 in Br...  \n",
       "3   Brewing since 1997.  Officially transformed in...  \n",
       "4   Founded in 1985, Dock Street Brewing Co. was t...  \n",
       "5   St. James's Gate Brewery (Irish: Grúdlann Ghea...  \n",
       "6   This 15 barrel microbrewery and restaurant is ...  \n",
       "7   Jackalope Brewing Company is owned by Bailey S...  \n",
       "8   From our earliest days of striving to make con...  \n",
       "9   Last Name Brewing is a craft brewery and tap r...  \n",
       "10  At Laughing Dog Brewing, what began with a dre...  \n",
       "11                                                NaN  \n",
       "12  New Holland Brewing Company’s deep roots in th...  \n",
       "13  Oskar Blues Brewery is part of the Oskar Blues...  \n",
       "14  The Portsmouth Brewery, New Hampshire's first ...  \n",
       "15  The Sierra Nevada Brewing Company was establis...  \n",
       "16  February 17, 1997 marked the official beginnin...  \n",
       "17  Wachusett Brewing Company was founded in 1994 ...  \n",
       "18  Superior craft beer out of Burlington, Vermont...  "
      ]
     },
     "execution_count": 100,
     "metadata": {},
     "output_type": "execute_result"
    }
   ],
   "source": [
    "# use brew_info dictionary to make dataframe\n",
    "brew_df = pd.DataFrame(data=brew_info)\n",
    "brew_df.head(20)"
   ]
  },
  {
   "cell_type": "code",
   "execution_count": 101,
   "metadata": {},
   "outputs": [],
   "source": [
    "brew_df.to_csv(\"Breweries.csv\", index=False)"
   ]
  },
  {
   "cell_type": "code",
   "execution_count": 102,
   "metadata": {},
   "outputs": [
    {
     "data": {
      "text/plain": [
       "19"
      ]
     },
     "execution_count": 102,
     "metadata": {},
     "output_type": "execute_result"
    }
   ],
   "source": [
    "len(brew_df)"
   ]
  },
  {
   "cell_type": "code",
   "execution_count": null,
   "metadata": {},
   "outputs": [],
   "source": []
  }
 ],
 "metadata": {
  "kernelspec": {
   "display_name": "Python 3",
   "language": "python",
   "name": "python3"
  },
  "language_info": {
   "codemirror_mode": {
    "name": "ipython",
    "version": 3
   },
   "file_extension": ".py",
   "mimetype": "text/x-python",
   "name": "python",
   "nbconvert_exporter": "python",
   "pygments_lexer": "ipython3",
   "version": "3.7.6"
  }
 },
 "nbformat": 4,
 "nbformat_minor": 4
}
